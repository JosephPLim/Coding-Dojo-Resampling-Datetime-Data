{
 "cells": [
  {
   "cell_type": "markdown",
   "id": "2f546504",
   "metadata": {},
   "source": [
    "# Assignment: Resampling Datetime Data\n",
    "## Joseph Lim\n",
    "\n",
    "Create a datetime index with the provided data and answer questions using visualizations and correct frequency data.\n",
    "\n",
    "| Feature name     | Feature Type | Description                                   |\n",
    "|------------------|--------------|-----------------------------------------------|\n",
    "| date             | int          | recorded date of measurement                  |\n",
    "| cloud_cover      | float        | cloud cover in oktas                          |\n",
    "| sunshine         | float        | sunshine measurement in hours                 |\n",
    "| global_radiation | float        | irradiance measurement in Watts/meter squared |\n",
    "| max_temp         | float        | maximum temp in degrees Celsius               |\n",
    "| mean_temp        | float        | average temp in degrees Celsius               |\n",
    "| min_temp         | float        | minimum temp in degrees Clesius               |\n",
    "| precipitation    | float        | precipitation measurement in millimeters      |\n",
    "| pressure         | float        | pressure measurement in Pascals               |\n",
    "| snow_depth       | float        | snow depth measured in centimeters            |"
   ]
  },
  {
   "cell_type": "markdown",
   "id": "e3992af3",
   "metadata": {},
   "source": [
    "## Importing Libraries and Data"
   ]
  },
  {
   "cell_type": "code",
   "execution_count": 1,
   "id": "6ceb1a40",
   "metadata": {},
   "outputs": [],
   "source": [
    "#Basic Manipulation\n",
    "import numpy as np\n",
    "import pandas as pd\n",
    "\n",
    "#Visualization\n",
    "import matplotlib.pyplot as plt\n",
    "import seaborn as sns\n",
    "import matplotlib.ticker as mticks\n",
    "import matplotlib.dates as mdates"
   ]
  },
  {
   "cell_type": "code",
   "execution_count": 2,
   "id": "d8b94eed",
   "metadata": {},
   "outputs": [],
   "source": [
    "#Setting various standards\n",
    "plt.rcParams['figure.figsize'] = (12,3)"
   ]
  },
  {
   "cell_type": "code",
   "execution_count": 3,
   "id": "e8e7360f",
   "metadata": {},
   "outputs": [
    {
     "data": {
      "text/html": [
       "<div>\n",
       "<style scoped>\n",
       "    .dataframe tbody tr th:only-of-type {\n",
       "        vertical-align: middle;\n",
       "    }\n",
       "\n",
       "    .dataframe tbody tr th {\n",
       "        vertical-align: top;\n",
       "    }\n",
       "\n",
       "    .dataframe thead th {\n",
       "        text-align: right;\n",
       "    }\n",
       "</style>\n",
       "<table border=\"1\" class=\"dataframe\">\n",
       "  <thead>\n",
       "    <tr style=\"text-align: right;\">\n",
       "      <th></th>\n",
       "      <th>date</th>\n",
       "      <th>cloud_cover</th>\n",
       "      <th>sunshine</th>\n",
       "      <th>global_radiation</th>\n",
       "      <th>max_temp</th>\n",
       "      <th>mean_temp</th>\n",
       "      <th>min_temp</th>\n",
       "      <th>precipitation</th>\n",
       "      <th>pressure</th>\n",
       "      <th>snow_depth</th>\n",
       "    </tr>\n",
       "  </thead>\n",
       "  <tbody>\n",
       "    <tr>\n",
       "      <th>0</th>\n",
       "      <td>19790101</td>\n",
       "      <td>2.0</td>\n",
       "      <td>7.0</td>\n",
       "      <td>52.0</td>\n",
       "      <td>2.3</td>\n",
       "      <td>-4.1</td>\n",
       "      <td>-7.5</td>\n",
       "      <td>0.4</td>\n",
       "      <td>101900.0</td>\n",
       "      <td>9.0</td>\n",
       "    </tr>\n",
       "    <tr>\n",
       "      <th>1</th>\n",
       "      <td>19790102</td>\n",
       "      <td>6.0</td>\n",
       "      <td>1.7</td>\n",
       "      <td>27.0</td>\n",
       "      <td>1.6</td>\n",
       "      <td>-2.6</td>\n",
       "      <td>-7.5</td>\n",
       "      <td>0.0</td>\n",
       "      <td>102530.0</td>\n",
       "      <td>8.0</td>\n",
       "    </tr>\n",
       "    <tr>\n",
       "      <th>2</th>\n",
       "      <td>19790103</td>\n",
       "      <td>5.0</td>\n",
       "      <td>0.0</td>\n",
       "      <td>13.0</td>\n",
       "      <td>1.3</td>\n",
       "      <td>-2.8</td>\n",
       "      <td>-7.2</td>\n",
       "      <td>0.0</td>\n",
       "      <td>102050.0</td>\n",
       "      <td>4.0</td>\n",
       "    </tr>\n",
       "    <tr>\n",
       "      <th>3</th>\n",
       "      <td>19790104</td>\n",
       "      <td>8.0</td>\n",
       "      <td>0.0</td>\n",
       "      <td>13.0</td>\n",
       "      <td>-0.3</td>\n",
       "      <td>-2.6</td>\n",
       "      <td>-6.5</td>\n",
       "      <td>0.0</td>\n",
       "      <td>100840.0</td>\n",
       "      <td>2.0</td>\n",
       "    </tr>\n",
       "    <tr>\n",
       "      <th>4</th>\n",
       "      <td>19790105</td>\n",
       "      <td>6.0</td>\n",
       "      <td>2.0</td>\n",
       "      <td>29.0</td>\n",
       "      <td>5.6</td>\n",
       "      <td>-0.8</td>\n",
       "      <td>-1.4</td>\n",
       "      <td>0.0</td>\n",
       "      <td>102250.0</td>\n",
       "      <td>1.0</td>\n",
       "    </tr>\n",
       "  </tbody>\n",
       "</table>\n",
       "</div>"
      ],
      "text/plain": [
       "       date  cloud_cover  sunshine  global_radiation  max_temp  mean_temp  \\\n",
       "0  19790101          2.0       7.0              52.0       2.3       -4.1   \n",
       "1  19790102          6.0       1.7              27.0       1.6       -2.6   \n",
       "2  19790103          5.0       0.0              13.0       1.3       -2.8   \n",
       "3  19790104          8.0       0.0              13.0      -0.3       -2.6   \n",
       "4  19790105          6.0       2.0              29.0       5.6       -0.8   \n",
       "\n",
       "   min_temp  precipitation  pressure  snow_depth  \n",
       "0      -7.5            0.4  101900.0         9.0  \n",
       "1      -7.5            0.0  102530.0         8.0  \n",
       "2      -7.2            0.0  102050.0         4.0  \n",
       "3      -6.5            0.0  100840.0         2.0  \n",
       "4      -1.4            0.0  102250.0         1.0  "
      ]
     },
     "execution_count": 3,
     "metadata": {},
     "output_type": "execute_result"
    }
   ],
   "source": [
    "#importing data into dataframe\n",
    "df = pd.read_csv(\"london_weather_MODIFIED - london_weather_MODIFIED.csv\")\n",
    "df.head()"
   ]
  },
  {
   "cell_type": "markdown",
   "id": "bd8a8613",
   "metadata": {},
   "source": [
    "## Cleaning Data"
   ]
  },
  {
   "cell_type": "code",
   "execution_count": 7,
   "id": "8f9788c5",
   "metadata": {},
   "outputs": [
    {
     "data": {
      "text/plain": [
       "(15341, 10)"
      ]
     },
     "execution_count": 7,
     "metadata": {},
     "output_type": "execute_result"
    }
   ],
   "source": [
    "df.shape"
   ]
  },
  {
   "cell_type": "code",
   "execution_count": 4,
   "id": "1178ab0a",
   "metadata": {
    "scrolled": true
   },
   "outputs": [
    {
     "data": {
      "text/html": [
       "<div>\n",
       "<style scoped>\n",
       "    .dataframe tbody tr th:only-of-type {\n",
       "        vertical-align: middle;\n",
       "    }\n",
       "\n",
       "    .dataframe tbody tr th {\n",
       "        vertical-align: top;\n",
       "    }\n",
       "\n",
       "    .dataframe thead th {\n",
       "        text-align: right;\n",
       "    }\n",
       "</style>\n",
       "<table border=\"1\" class=\"dataframe\">\n",
       "  <thead>\n",
       "    <tr style=\"text-align: right;\">\n",
       "      <th></th>\n",
       "      <th>date</th>\n",
       "      <th>cloud_cover</th>\n",
       "      <th>sunshine</th>\n",
       "      <th>global_radiation</th>\n",
       "      <th>max_temp</th>\n",
       "      <th>mean_temp</th>\n",
       "      <th>min_temp</th>\n",
       "      <th>precipitation</th>\n",
       "      <th>pressure</th>\n",
       "      <th>snow_depth</th>\n",
       "    </tr>\n",
       "  </thead>\n",
       "  <tbody>\n",
       "    <tr>\n",
       "      <th>count</th>\n",
       "      <td>1.534100e+04</td>\n",
       "      <td>14938.000000</td>\n",
       "      <td>14957.000000</td>\n",
       "      <td>14939.000000</td>\n",
       "      <td>14951.000000</td>\n",
       "      <td>14922.000000</td>\n",
       "      <td>14955.000000</td>\n",
       "      <td>14951.000000</td>\n",
       "      <td>14953.000000</td>\n",
       "      <td>13589.000000</td>\n",
       "    </tr>\n",
       "    <tr>\n",
       "      <th>mean</th>\n",
       "      <td>1.999567e+07</td>\n",
       "      <td>5.276275</td>\n",
       "      <td>4.348947</td>\n",
       "      <td>118.760024</td>\n",
       "      <td>15.377667</td>\n",
       "      <td>11.463939</td>\n",
       "      <td>7.550471</td>\n",
       "      <td>1.662003</td>\n",
       "      <td>101537.611182</td>\n",
       "      <td>0.038634</td>\n",
       "    </tr>\n",
       "    <tr>\n",
       "      <th>std</th>\n",
       "      <td>1.212176e+05</td>\n",
       "      <td>2.066946</td>\n",
       "      <td>4.027593</td>\n",
       "      <td>88.844154</td>\n",
       "      <td>6.556762</td>\n",
       "      <td>5.729383</td>\n",
       "      <td>5.327638</td>\n",
       "      <td>3.730315</td>\n",
       "      <td>1048.800019</td>\n",
       "      <td>0.551226</td>\n",
       "    </tr>\n",
       "    <tr>\n",
       "      <th>min</th>\n",
       "      <td>1.979010e+07</td>\n",
       "      <td>0.000000</td>\n",
       "      <td>0.000000</td>\n",
       "      <td>12.000000</td>\n",
       "      <td>-6.200000</td>\n",
       "      <td>-7.600000</td>\n",
       "      <td>-11.800000</td>\n",
       "      <td>0.000000</td>\n",
       "      <td>95960.000000</td>\n",
       "      <td>0.000000</td>\n",
       "    </tr>\n",
       "    <tr>\n",
       "      <th>25%</th>\n",
       "      <td>1.989070e+07</td>\n",
       "      <td>4.000000</td>\n",
       "      <td>0.500000</td>\n",
       "      <td>41.000000</td>\n",
       "      <td>10.500000</td>\n",
       "      <td>7.000000</td>\n",
       "      <td>3.500000</td>\n",
       "      <td>0.000000</td>\n",
       "      <td>100920.000000</td>\n",
       "      <td>0.000000</td>\n",
       "    </tr>\n",
       "    <tr>\n",
       "      <th>50%</th>\n",
       "      <td>2.000010e+07</td>\n",
       "      <td>6.000000</td>\n",
       "      <td>3.500000</td>\n",
       "      <td>95.000000</td>\n",
       "      <td>15.000000</td>\n",
       "      <td>11.400000</td>\n",
       "      <td>7.800000</td>\n",
       "      <td>0.000000</td>\n",
       "      <td>101620.000000</td>\n",
       "      <td>0.000000</td>\n",
       "    </tr>\n",
       "    <tr>\n",
       "      <th>75%</th>\n",
       "      <td>2.010070e+07</td>\n",
       "      <td>7.000000</td>\n",
       "      <td>7.200000</td>\n",
       "      <td>186.000000</td>\n",
       "      <td>20.300000</td>\n",
       "      <td>16.000000</td>\n",
       "      <td>11.800000</td>\n",
       "      <td>1.600000</td>\n",
       "      <td>102240.000000</td>\n",
       "      <td>0.000000</td>\n",
       "    </tr>\n",
       "    <tr>\n",
       "      <th>max</th>\n",
       "      <td>2.020123e+07</td>\n",
       "      <td>9.000000</td>\n",
       "      <td>16.000000</td>\n",
       "      <td>402.000000</td>\n",
       "      <td>37.900000</td>\n",
       "      <td>29.000000</td>\n",
       "      <td>22.300000</td>\n",
       "      <td>61.800000</td>\n",
       "      <td>104820.000000</td>\n",
       "      <td>22.000000</td>\n",
       "    </tr>\n",
       "  </tbody>\n",
       "</table>\n",
       "</div>"
      ],
      "text/plain": [
       "               date   cloud_cover      sunshine  global_radiation  \\\n",
       "count  1.534100e+04  14938.000000  14957.000000      14939.000000   \n",
       "mean   1.999567e+07      5.276275      4.348947        118.760024   \n",
       "std    1.212176e+05      2.066946      4.027593         88.844154   \n",
       "min    1.979010e+07      0.000000      0.000000         12.000000   \n",
       "25%    1.989070e+07      4.000000      0.500000         41.000000   \n",
       "50%    2.000010e+07      6.000000      3.500000         95.000000   \n",
       "75%    2.010070e+07      7.000000      7.200000        186.000000   \n",
       "max    2.020123e+07      9.000000     16.000000        402.000000   \n",
       "\n",
       "           max_temp     mean_temp      min_temp  precipitation       pressure  \\\n",
       "count  14951.000000  14922.000000  14955.000000   14951.000000   14953.000000   \n",
       "mean      15.377667     11.463939      7.550471       1.662003  101537.611182   \n",
       "std        6.556762      5.729383      5.327638       3.730315    1048.800019   \n",
       "min       -6.200000     -7.600000    -11.800000       0.000000   95960.000000   \n",
       "25%       10.500000      7.000000      3.500000       0.000000  100920.000000   \n",
       "50%       15.000000     11.400000      7.800000       0.000000  101620.000000   \n",
       "75%       20.300000     16.000000     11.800000       1.600000  102240.000000   \n",
       "max       37.900000     29.000000     22.300000      61.800000  104820.000000   \n",
       "\n",
       "         snow_depth  \n",
       "count  13589.000000  \n",
       "mean       0.038634  \n",
       "std        0.551226  \n",
       "min        0.000000  \n",
       "25%        0.000000  \n",
       "50%        0.000000  \n",
       "75%        0.000000  \n",
       "max       22.000000  "
      ]
     },
     "execution_count": 4,
     "metadata": {},
     "output_type": "execute_result"
    }
   ],
   "source": [
    "df.describe()"
   ]
  },
  {
   "cell_type": "code",
   "execution_count": 5,
   "id": "2776b18e",
   "metadata": {},
   "outputs": [
    {
     "name": "stdout",
     "output_type": "stream",
     "text": [
      "<class 'pandas.core.frame.DataFrame'>\n",
      "RangeIndex: 15341 entries, 0 to 15340\n",
      "Data columns (total 10 columns):\n",
      " #   Column            Non-Null Count  Dtype  \n",
      "---  ------            --------------  -----  \n",
      " 0   date              15341 non-null  int64  \n",
      " 1   cloud_cover       14938 non-null  float64\n",
      " 2   sunshine          14957 non-null  float64\n",
      " 3   global_radiation  14939 non-null  float64\n",
      " 4   max_temp          14951 non-null  float64\n",
      " 5   mean_temp         14922 non-null  float64\n",
      " 6   min_temp          14955 non-null  float64\n",
      " 7   precipitation     14951 non-null  float64\n",
      " 8   pressure          14953 non-null  float64\n",
      " 9   snow_depth        13589 non-null  float64\n",
      "dtypes: float64(9), int64(1)\n",
      "memory usage: 1.2 MB\n"
     ]
    }
   ],
   "source": [
    "df.info()"
   ]
  },
  {
   "cell_type": "code",
   "execution_count": 10,
   "id": "000f7b64",
   "metadata": {},
   "outputs": [
    {
     "data": {
      "text/plain": [
       "date                 0.000000\n",
       "cloud_cover          2.626947\n",
       "sunshine             2.503096\n",
       "global_radiation     2.620429\n",
       "max_temp             2.542207\n",
       "mean_temp            2.731243\n",
       "min_temp             2.516133\n",
       "precipitation        2.542207\n",
       "pressure             2.529170\n",
       "snow_depth          11.420377\n",
       "dtype: float64"
      ]
     },
     "execution_count": 10,
     "metadata": {},
     "output_type": "execute_result"
    }
   ],
   "source": [
    "#Checking % missing data\n",
    "df.isna().sum() / len(df) * 100"
   ]
  },
  {
   "cell_type": "code",
   "execution_count": null,
   "id": "4d2187b3",
   "metadata": {},
   "outputs": [],
   "source": []
  },
  {
   "cell_type": "markdown",
   "id": "9ae2b64a",
   "metadata": {},
   "source": [
    "## What month had the most precipitation between 2000 through 2010?"
   ]
  },
  {
   "cell_type": "markdown",
   "id": "33e78364",
   "metadata": {},
   "source": [
    "## Which year between 2000-2020 had the coolest average temperature?"
   ]
  },
  {
   "cell_type": "code",
   "execution_count": null,
   "id": "144388bb",
   "metadata": {},
   "outputs": [],
   "source": []
  },
  {
   "cell_type": "code",
   "execution_count": null,
   "id": "6bd95511",
   "metadata": {},
   "outputs": [],
   "source": []
  },
  {
   "cell_type": "code",
   "execution_count": null,
   "id": "708344a9",
   "metadata": {},
   "outputs": [],
   "source": []
  },
  {
   "cell_type": "code",
   "execution_count": null,
   "id": "8ad0bb0b",
   "metadata": {},
   "outputs": [],
   "source": []
  },
  {
   "cell_type": "code",
   "execution_count": null,
   "id": "616bb055",
   "metadata": {},
   "outputs": [],
   "source": []
  },
  {
   "cell_type": "code",
   "execution_count": null,
   "id": "acfb2c88",
   "metadata": {},
   "outputs": [],
   "source": []
  }
 ],
 "metadata": {
  "kernelspec": {
   "display_name": "Python 3 (ipykernel)",
   "language": "python",
   "name": "python3"
  },
  "language_info": {
   "codemirror_mode": {
    "name": "ipython",
    "version": 3
   },
   "file_extension": ".py",
   "mimetype": "text/x-python",
   "name": "python",
   "nbconvert_exporter": "python",
   "pygments_lexer": "ipython3",
   "version": "3.9.15"
  },
  "toc": {
   "base_numbering": 1,
   "nav_menu": {},
   "number_sections": false,
   "sideBar": true,
   "skip_h1_title": false,
   "title_cell": "Table of Contents",
   "title_sidebar": "Contents",
   "toc_cell": false,
   "toc_position": {},
   "toc_section_display": true,
   "toc_window_display": false
  }
 },
 "nbformat": 4,
 "nbformat_minor": 5
}
